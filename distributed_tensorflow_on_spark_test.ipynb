{
 "cells": [
  {
   "cell_type": "code",
   "execution_count": 1,
   "metadata": {},
   "outputs": [
    {
     "name": "stderr",
     "output_type": "stream",
     "text": [
      "/anaconda3/lib/python3.6/site-packages/h5py/__init__.py:36: FutureWarning: Conversion of the second argument of issubdtype from `float` to `np.floating` is deprecated. In future, it will be treated as `np.float64 == np.dtype(float).type`.\n",
      "  from ._conv import register_converters as _register_converters\n"
     ]
    }
   ],
   "source": [
    "sc.addPyFile(\"util.py\")\n",
    "sc.addPyFile(\"linear_regression.py\")\n",
    "\n",
    "import numpy as np\n",
    "import linear_regression\n",
    "import logging\n",
    "import multiprocessing\n",
    "import threading\n",
    "from util import get_train_X_Y"
   ]
  },
  {
   "cell_type": "code",
   "execution_count": 2,
   "metadata": {},
   "outputs": [],
   "source": [
    "ps_hosts = [ \"localhost:30000\" ]\n",
    "worker_hosts = [ \"localhost:30001\"]"
   ]
  },
  {
   "cell_type": "code",
   "execution_count": 3,
   "metadata": {},
   "outputs": [],
   "source": [
    "def train(ps_hosts, worker_hosts, idx, partition, job_name):\n",
    "    logging.debug(\"****** Start to train the model\")\n",
    "\n",
    "    pool = multiprocessing.Pool(processes=1)\n",
    "    if job_name == \"ps\":\n",
    "        pool.apply_async(linear_regression.distributed_train, (ps_hosts, worker_hosts, \"ps\", idx, None, None))\n",
    "        #linear_regression.distributed_train(ps_hosts, worker_hosts, \"ps\", idx, None, None)\n",
    "        pool.close()\n",
    "        #pool.join()\n",
    "    else:\n",
    "        X, Y = get_train_X_Y(partition)\n",
    "        pool.apply_async(linear_regression.distributed_train, (ps_hosts, worker_hosts, \"worker\", idx, X, Y))\n",
    "        #linear_regression.distributed_train(ps_hosts, worker_hosts, \"worker\", idx, X, Y)\n",
    "        pool.close()\n",
    "        #pool.join()\n",
    "    return [\"Task # %d done\".format(idx)]"
   ]
  },
  {
   "cell_type": "code",
   "execution_count": 4,
   "metadata": {},
   "outputs": [],
   "source": [
    "worker_rdd = sc.parallelize(np.random.random(1000)*100, len(worker_hosts)).map(lambda x: (x, x * 0.68 + 1.2))\n",
    "ps_rdd = sc.parallelize(ps_hosts, len(ps_hosts))"
   ]
  },
  {
   "cell_type": "code",
   "execution_count": 5,
   "metadata": {},
   "outputs": [
    {
     "data": {
      "text/plain": [
       "1"
      ]
     },
     "execution_count": 5,
     "metadata": {},
     "output_type": "execute_result"
    }
   ],
   "source": [
    "ps_rdd.mapPartitionsWithIndex(lambda idx, it: train(ps_hosts, worker_hosts, idx, it, \"ps\")).count()"
   ]
  },
  {
   "cell_type": "code",
   "execution_count": 6,
   "metadata": {},
   "outputs": [
    {
     "data": {
      "text/plain": [
       "1"
      ]
     },
     "execution_count": 6,
     "metadata": {},
     "output_type": "execute_result"
    }
   ],
   "source": [
    "worker_rdd.mapPartitionsWithIndex(lambda idx, it: train(ps_hosts, worker_hosts, idx, it, \"worker\")).count()"
   ]
  },
  {
   "cell_type": "code",
   "execution_count": null,
   "metadata": {},
   "outputs": [],
   "source": []
  }
 ],
 "metadata": {
  "kernelspec": {
   "display_name": "Python 3",
   "language": "python",
   "name": "python3"
  },
  "language_info": {
   "codemirror_mode": {
    "name": "ipython",
    "version": 3
   },
   "file_extension": ".py",
   "mimetype": "text/x-python",
   "name": "python",
   "nbconvert_exporter": "python",
   "pygments_lexer": "ipython3",
   "version": "3.6.5"
  }
 },
 "nbformat": 4,
 "nbformat_minor": 2
}
